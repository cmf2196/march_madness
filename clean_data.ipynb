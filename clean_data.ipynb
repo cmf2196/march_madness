{
 "cells": [
  {
   "cell_type": "markdown",
   "metadata": {},
   "source": [
    "# Clean and Organize data\n",
    "\n",
    "Data has been reorganized on a SQL dataframe locally to get it in the newly updated format. All new files are located in prelim_cleaned_data folder in the repository.  \n",
    "There is still some work to be done here, however. For example, we do not want every single collumn collected, and some will need to be renamed to fit our schema."
   ]
  },
  {
   "cell_type": "code",
   "execution_count": 216,
   "metadata": {},
   "outputs": [],
   "source": [
    "import os\n",
    "\n",
    "class bball_pipeline(object):\n",
    "\n",
    "    def make_folder(self):\n",
    "        if not os.path.exists('./clean_data'):\n",
    "            os.mkdir('./clean_data')\n",
    "    \n",
    "    def save_file(self):\n",
    "        pass\n"
   ]
  },
  {
   "cell_type": "code",
   "execution_count": 217,
   "metadata": {},
   "outputs": [],
   "source": [
    "# our imports for the model\n",
    "import pandas as pd\n",
    "import numpy as np"
   ]
  },
  {
   "cell_type": "markdown",
   "metadata": {},
   "source": [
    "## Import our Data"
   ]
  },
  {
   "cell_type": "code",
   "execution_count": 218,
   "metadata": {},
   "outputs": [],
   "source": [
    "# ncaa tournament results into dataframe \n",
    "teams = pd.read_csv('prelim_cleaned_data/distinctteamkey.csv')  \n",
    "# team ID, name, sports reference url name\n",
    "ncaa_games = pd.read_csv('prelim_cleaned_data/ncaa_new.csv')  \n",
    "# Season long stats for 2009-2018\n",
    "schools = pd.read_csv('prelim_cleaned_data/team_list_new.csv')\n",
    "# more team data\n",
    "season_stats = pd.read_csv('prelim_cleaned_data/big_stats.csv')"
   ]
  },
  {
   "cell_type": "markdown",
   "metadata": {},
   "source": [
    "## Rename our Columns According to the Schema\n",
    "\n",
    "The Dataframes we are reconfiguring here are: <dir>\n",
    "* teams\n",
    "* schools\n",
    "* ncaa_games"
   ]
  },
  {
   "cell_type": "code",
   "execution_count": 219,
   "metadata": {},
   "outputs": [],
   "source": [
    "# simply rename the columns for teams and schools\n",
    "teams.columns = [\"team_id\" , \"school_id\" , \"year\"]\n",
    "schools.columns = [\"school_id\" , \"school_name\" , \"sports_reference_name\" ]"
   ]
  },
  {
   "cell_type": "code",
   "execution_count": 220,
   "metadata": {},
   "outputs": [],
   "source": [
    "# reorder the columns\n",
    "ncaa_games = ncaa_games.reindex(columns=['Identifier','Winner','Loser','WScore','LScore','DayNum'])\n",
    "# rename the columns according to the schema\n",
    "ncaa_games.columns = [ \"game_id\" , \"team1_id\" , 'team2_id' , 'team1_score' , 'team2_score' , 'DayNum']\n",
    "# Drop the DayNum column\n",
    "ncaa_games = ncaa_games.drop(columns = \"DayNum\")"
   ]
  },
  {
   "cell_type": "markdown",
   "metadata": {},
   "source": [
    "## Reorganize the season_stats DataFrame\n",
    "\n",
    "This takes three steps <dir>\n",
    "    1. remove columns that are not useful\n",
    "    2. rename columns according to the schema\n",
    "    3. reorder columns according to the schema"
   ]
  },
  {
   "cell_type": "code",
   "execution_count": 221,
   "metadata": {},
   "outputs": [
    {
     "data": {
      "text/html": [
       "<div>\n",
       "<style scoped>\n",
       "    .dataframe tbody tr th:only-of-type {\n",
       "        vertical-align: middle;\n",
       "    }\n",
       "\n",
       "    .dataframe tbody tr th {\n",
       "        vertical-align: top;\n",
       "    }\n",
       "\n",
       "    .dataframe thead th {\n",
       "        text-align: right;\n",
       "    }\n",
       "</style>\n",
       "<table border=\"1\" class=\"dataframe\">\n",
       "  <thead>\n",
       "    <tr style=\"text-align: right;\">\n",
       "      <th></th>\n",
       "      <th>Rk</th>\n",
       "      <th>Season</th>\n",
       "      <th>Conf</th>\n",
       "      <th>W</th>\n",
       "      <th>L</th>\n",
       "      <th>WLPercent</th>\n",
       "      <th>W2</th>\n",
       "      <th>L2</th>\n",
       "      <th>WL2Percent</th>\n",
       "      <th>SRS</th>\n",
       "      <th>...</th>\n",
       "      <th>TRB</th>\n",
       "      <th>AST</th>\n",
       "      <th>STL</th>\n",
       "      <th>BLK</th>\n",
       "      <th>TOV</th>\n",
       "      <th>PF</th>\n",
       "      <th>PTS.1</th>\n",
       "      <th>PTSperG</th>\n",
       "      <th>Team_ID</th>\n",
       "      <th>Dates</th>\n",
       "    </tr>\n",
       "  </thead>\n",
       "  <tbody>\n",
       "    <tr>\n",
       "      <th>0</th>\n",
       "      <td>12</td>\n",
       "      <td>2008.0</td>\n",
       "      <td>MAC</td>\n",
       "      <td>23</td>\n",
       "      <td>13</td>\n",
       "      <td>1.0</td>\n",
       "      <td>10</td>\n",
       "      <td>6</td>\n",
       "      <td>1.0</td>\n",
       "      <td>3.0</td>\n",
       "      <td>...</td>\n",
       "      <td>NaN</td>\n",
       "      <td>NaN</td>\n",
       "      <td>NaN</td>\n",
       "      <td>NaN</td>\n",
       "      <td>NaN</td>\n",
       "      <td>NaN</td>\n",
       "      <td>NaN</td>\n",
       "      <td>NaN</td>\n",
       "      <td>NaN</td>\n",
       "      <td>NaN</td>\n",
       "    </tr>\n",
       "    <tr>\n",
       "      <th>1</th>\n",
       "      <td>11</td>\n",
       "      <td>2009.0</td>\n",
       "      <td>MAC</td>\n",
       "      <td>24</td>\n",
       "      <td>11</td>\n",
       "      <td>1.0</td>\n",
       "      <td>12</td>\n",
       "      <td>4</td>\n",
       "      <td>1.0</td>\n",
       "      <td>3.0</td>\n",
       "      <td>...</td>\n",
       "      <td>1199.0</td>\n",
       "      <td>446.0</td>\n",
       "      <td>270.0</td>\n",
       "      <td>80.0</td>\n",
       "      <td>490.0</td>\n",
       "      <td>745.0</td>\n",
       "      <td>2403.0</td>\n",
       "      <td>67.0</td>\n",
       "      <td>1103.0</td>\n",
       "      <td>2009.0</td>\n",
       "    </tr>\n",
       "    <tr>\n",
       "      <th>2</th>\n",
       "      <td>11</td>\n",
       "      <td>2009.0</td>\n",
       "      <td>MAC</td>\n",
       "      <td>24</td>\n",
       "      <td>11</td>\n",
       "      <td>1.0</td>\n",
       "      <td>12</td>\n",
       "      <td>4</td>\n",
       "      <td>1.0</td>\n",
       "      <td>3.0</td>\n",
       "      <td>...</td>\n",
       "      <td>1199.0</td>\n",
       "      <td>446.0</td>\n",
       "      <td>270.0</td>\n",
       "      <td>80.0</td>\n",
       "      <td>490.0</td>\n",
       "      <td>745.0</td>\n",
       "      <td>2403.0</td>\n",
       "      <td>67.0</td>\n",
       "      <td>1103.0</td>\n",
       "      <td>2009.0</td>\n",
       "    </tr>\n",
       "    <tr>\n",
       "      <th>3</th>\n",
       "      <td>10</td>\n",
       "      <td>2010.0</td>\n",
       "      <td>MAC</td>\n",
       "      <td>23</td>\n",
       "      <td>13</td>\n",
       "      <td>1.0</td>\n",
       "      <td>9</td>\n",
       "      <td>7</td>\n",
       "      <td>1.0</td>\n",
       "      <td>2.0</td>\n",
       "      <td>...</td>\n",
       "      <td>NaN</td>\n",
       "      <td>NaN</td>\n",
       "      <td>NaN</td>\n",
       "      <td>NaN</td>\n",
       "      <td>NaN</td>\n",
       "      <td>NaN</td>\n",
       "      <td>NaN</td>\n",
       "      <td>NaN</td>\n",
       "      <td>NaN</td>\n",
       "      <td>NaN</td>\n",
       "    </tr>\n",
       "    <tr>\n",
       "      <th>4</th>\n",
       "      <td>9</td>\n",
       "      <td>2011.0</td>\n",
       "      <td>MAC</td>\n",
       "      <td>22</td>\n",
       "      <td>12</td>\n",
       "      <td>1.0</td>\n",
       "      <td>13</td>\n",
       "      <td>3</td>\n",
       "      <td>1.0</td>\n",
       "      <td>6.0</td>\n",
       "      <td>...</td>\n",
       "      <td>1238.0</td>\n",
       "      <td>520.0</td>\n",
       "      <td>240.0</td>\n",
       "      <td>129.0</td>\n",
       "      <td>432.0</td>\n",
       "      <td>692.0</td>\n",
       "      <td>2524.0</td>\n",
       "      <td>70.0</td>\n",
       "      <td>1103.0</td>\n",
       "      <td>2011.0</td>\n",
       "    </tr>\n",
       "  </tbody>\n",
       "</table>\n",
       "<p>5 rows × 52 columns</p>\n",
       "</div>"
      ],
      "text/plain": [
       "   Rk  Season Conf   W   L  WLPercent  W2 L2  WL2Percent  SRS  ...     TRB  \\\n",
       "0  12  2008.0  MAC  23  13        1.0  10  6         1.0  3.0  ...     NaN   \n",
       "1  11  2009.0  MAC  24  11        1.0  12  4         1.0  3.0  ...  1199.0   \n",
       "2  11  2009.0  MAC  24  11        1.0  12  4         1.0  3.0  ...  1199.0   \n",
       "3  10  2010.0  MAC  23  13        1.0   9  7         1.0  2.0  ...     NaN   \n",
       "4   9  2011.0  MAC  22  12        1.0  13  3         1.0  6.0  ...  1238.0   \n",
       "\n",
       "     AST    STL    BLK    TOV     PF   PTS.1  PTSperG Team_ID   Dates  \n",
       "0    NaN    NaN    NaN    NaN    NaN     NaN      NaN     NaN     NaN  \n",
       "1  446.0  270.0   80.0  490.0  745.0  2403.0     67.0  1103.0  2009.0  \n",
       "2  446.0  270.0   80.0  490.0  745.0  2403.0     67.0  1103.0  2009.0  \n",
       "3    NaN    NaN    NaN    NaN    NaN     NaN      NaN     NaN     NaN  \n",
       "4  520.0  240.0  129.0  432.0  692.0  2524.0     70.0  1103.0  2011.0  \n",
       "\n",
       "[5 rows x 52 columns]"
      ]
     },
     "execution_count": 221,
     "metadata": {},
     "output_type": "execute_result"
    }
   ],
   "source": [
    "season_stats.head()"
   ]
  },
  {
   "cell_type": "code",
   "execution_count": 222,
   "metadata": {},
   "outputs": [],
   "source": [
    "del_cols = [\"Rk\" , 'Season' , 'W' , \"L\" , \"W2\"  , \"L2\" , \"AP_Pre\" , \"AP_High\" , \n",
    "           \"G\" , \"MP\" , 'FG' , \"TwoP\",  \"ThreeP\" , \"FT\" , \"TRB\" , 'PTSperG' ,\n",
    "            'Dates' , 'Team_ID']\n",
    "\n",
    "season_stats = season_stats.drop(columns = del_cols)"
   ]
  },
  {
   "cell_type": "code",
   "execution_count": 223,
   "metadata": {},
   "outputs": [
    {
     "data": {
      "text/plain": [
       "Index(['Conf', 'WLPercent', 'WL2Percent', 'SRS', 'SOS', 'PTS', 'PTS2',\n",
       "       'AP_Final', 'NCAA_Tour', 'Seed', 'Coaching', 'Team', 'SrNames',\n",
       "       'TeamID', 'schoolid', 'yearid', 'id', 'Team.1', 'FGA', 'FG_Percent',\n",
       "       'TwoPA', 'TwoP_Percent', 'ThreePA', 'ThreeP_Percent', 'FTA',\n",
       "       'FT_Percent', 'ORB', 'DRB', 'AST', 'STL', 'BLK', 'TOV', 'PF', 'PTS.1'],\n",
       "      dtype='object')"
      ]
     },
     "execution_count": 223,
     "metadata": {},
     "output_type": "execute_result"
    }
   ],
   "source": [
    "season_stats.columns"
   ]
  },
  {
   "cell_type": "code",
   "execution_count": 224,
   "metadata": {},
   "outputs": [
    {
     "data": {
      "text/plain": [
       "(3531, 34)"
      ]
     },
     "execution_count": 224,
     "metadata": {},
     "output_type": "execute_result"
    }
   ],
   "source": [
    "season_stats.shape"
   ]
  },
  {
   "cell_type": "code",
   "execution_count": 225,
   "metadata": {},
   "outputs": [
    {
     "data": {
      "text/plain": [
       "(657, 3)"
      ]
     },
     "execution_count": 225,
     "metadata": {},
     "output_type": "execute_result"
    }
   ],
   "source": [
    "teams.shape"
   ]
  },
  {
   "cell_type": "code",
   "execution_count": 226,
   "metadata": {},
   "outputs": [],
   "source": [
    "val = ~np.isnan(season_stats[\"id\"] ) \n",
    "season_stats = season_stats[val] "
   ]
  },
  {
   "cell_type": "code",
   "execution_count": 227,
   "metadata": {},
   "outputs": [],
   "source": [
    "un = season_stats['id'].unique()"
   ]
  },
  {
   "cell_type": "code",
   "execution_count": 234,
   "metadata": {},
   "outputs": [
    {
     "data": {
      "text/plain": [
       "1001275.0"
      ]
     },
     "execution_count": 234,
     "metadata": {},
     "output_type": "execute_result"
    }
   ],
   "source": [
    "max(un)"
   ]
  },
  {
   "cell_type": "code",
   "execution_count": 230,
   "metadata": {},
   "outputs": [
    {
     "data": {
      "text/plain": [
       "1000656"
      ]
     },
     "execution_count": 230,
     "metadata": {},
     "output_type": "execute_result"
    }
   ],
   "source": [
    "max(teams[\"team_id\"])"
   ]
  },
  {
   "cell_type": "code",
   "execution_count": null,
   "metadata": {},
   "outputs": [],
   "source": []
  }
 ],
 "metadata": {
  "kernelspec": {
   "display_name": "Python 3",
   "language": "python",
   "name": "python3"
  },
  "language_info": {
   "codemirror_mode": {
    "name": "ipython",
    "version": 3
   },
   "file_extension": ".py",
   "mimetype": "text/x-python",
   "name": "python",
   "nbconvert_exporter": "python",
   "pygments_lexer": "ipython3",
   "version": "3.7.1"
  }
 },
 "nbformat": 4,
 "nbformat_minor": 2
}
