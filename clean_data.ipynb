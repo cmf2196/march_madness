{
 "cells": [
  {
   "cell_type": "markdown",
   "metadata": {},
   "source": [
    "# Clean and Organize data"
   ]
  },
  {
   "cell_type": "code",
   "execution_count": 83,
   "metadata": {},
   "outputs": [],
   "source": [
    "import os\n",
    "\n",
    "class bball_pipeline(object):\n",
    "\n",
    "    def make_folder(self):\n",
    "        if not os.path.exists('./data'):\n",
    "            os.mkdir('./data')\n",
    "    \n",
    "    def save_file(self):\n",
    "        pass\n"
   ]
  },
  {
   "cell_type": "code",
   "execution_count": 84,
   "metadata": {},
   "outputs": [],
   "source": [
    "# our imports for the model\n",
    "import pandas as pd\n",
    "import numpy as np"
   ]
  },
  {
   "cell_type": "code",
   "execution_count": 85,
   "metadata": {},
   "outputs": [],
   "source": [
    "# ncaa tournament results into dataframe \n",
    "ncaa_short = pd.read_csv('ncaa_short.csv')  \n",
    "# team ID, name, sports reference url name\n",
    "team_data = pd.read_csv('team_list.csv')  \n",
    "# Season long stats for 2009-2018\n",
    "season_data = pd.read_csv('season_data.csv')\n",
    "# more team data\n",
    "season_stats2 = pd.read_csv('more_team_data.csv')"
   ]
  },
  {
   "cell_type": "code",
   "execution_count": 86,
   "metadata": {},
   "outputs": [
    {
     "data": {
      "text/html": [
       "<div>\n",
       "<style scoped>\n",
       "    .dataframe tbody tr th:only-of-type {\n",
       "        vertical-align: middle;\n",
       "    }\n",
       "\n",
       "    .dataframe tbody tr th {\n",
       "        vertical-align: top;\n",
       "    }\n",
       "\n",
       "    .dataframe thead th {\n",
       "        text-align: right;\n",
       "    }\n",
       "</style>\n",
       "<table border=\"1\" class=\"dataframe\">\n",
       "  <thead>\n",
       "    <tr style=\"text-align: right;\">\n",
       "      <th></th>\n",
       "      <th>Season</th>\n",
       "      <th>DayNum</th>\n",
       "      <th>WTeamID</th>\n",
       "      <th>WScore</th>\n",
       "      <th>LTeamID</th>\n",
       "      <th>LScore</th>\n",
       "      <th>WLoc</th>\n",
       "      <th>NumOT</th>\n",
       "    </tr>\n",
       "  </thead>\n",
       "  <tbody>\n",
       "    <tr>\n",
       "      <th>0</th>\n",
       "      <td>2009</td>\n",
       "      <td>134</td>\n",
       "      <td>1287</td>\n",
       "      <td>58</td>\n",
       "      <td>1106</td>\n",
       "      <td>43</td>\n",
       "      <td>N</td>\n",
       "      <td>0</td>\n",
       "    </tr>\n",
       "    <tr>\n",
       "      <th>1</th>\n",
       "      <td>2009</td>\n",
       "      <td>136</td>\n",
       "      <td>1163</td>\n",
       "      <td>103</td>\n",
       "      <td>1151</td>\n",
       "      <td>47</td>\n",
       "      <td>N</td>\n",
       "      <td>0</td>\n",
       "    </tr>\n",
       "    <tr>\n",
       "      <th>2</th>\n",
       "      <td>2009</td>\n",
       "      <td>136</td>\n",
       "      <td>1181</td>\n",
       "      <td>86</td>\n",
       "      <td>1127</td>\n",
       "      <td>62</td>\n",
       "      <td>N</td>\n",
       "      <td>0</td>\n",
       "    </tr>\n",
       "    <tr>\n",
       "      <th>3</th>\n",
       "      <td>2009</td>\n",
       "      <td>136</td>\n",
       "      <td>1211</td>\n",
       "      <td>77</td>\n",
       "      <td>1103</td>\n",
       "      <td>64</td>\n",
       "      <td>N</td>\n",
       "      <td>0</td>\n",
       "    </tr>\n",
       "    <tr>\n",
       "      <th>4</th>\n",
       "      <td>2009</td>\n",
       "      <td>136</td>\n",
       "      <td>1261</td>\n",
       "      <td>75</td>\n",
       "      <td>1139</td>\n",
       "      <td>71</td>\n",
       "      <td>N</td>\n",
       "      <td>0</td>\n",
       "    </tr>\n",
       "  </tbody>\n",
       "</table>\n",
       "</div>"
      ],
      "text/plain": [
       "   Season  DayNum  WTeamID  WScore  LTeamID  LScore WLoc  NumOT\n",
       "0    2009     134     1287      58     1106      43    N      0\n",
       "1    2009     136     1163     103     1151      47    N      0\n",
       "2    2009     136     1181      86     1127      62    N      0\n",
       "3    2009     136     1211      77     1103      64    N      0\n",
       "4    2009     136     1261      75     1139      71    N      0"
      ]
     },
     "execution_count": 86,
     "metadata": {},
     "output_type": "execute_result"
    }
   ],
   "source": [
    "#team_data.head()\n",
    "ncaa_short.head()"
   ]
  },
  {
   "cell_type": "markdown",
   "metadata": {},
   "source": [
    "# Create the 'teams' dataframe"
   ]
  },
  {
   "cell_type": "markdown",
   "metadata": {},
   "source": [
    "This will be done in the following steps:\n",
    "1. create an empty dataframe with the desired column titles.\n",
    "2. Iterate through the ncaa_short dataframe's rows. These are the past ncaa_tournament games. \n",
    "3. For each game, filter the 'teams' dataframe that we are building, to the rows which include the correct year\n",
    "4. If the schools are not in the filtered 'teams' dataframe, add them, and create a new team_id.\n"
   ]
  },
  {
   "cell_type": "code",
   "execution_count": 87,
   "metadata": {},
   "outputs": [],
   "source": [
    "# create the dataframe\n",
    "teams = pd.DataFrame(columns = [\"team_id\" , \"school_id\" , \"year\"] ) \n",
    "# counter \n",
    "id_counter = 1000000\n",
    "\n",
    "# iterate through our data\n",
    "for i in range(ncaa_short.shape[0]):\n",
    "    year = ncaa_short.iloc[i , 0] \n",
    "    id_1 =  ncaa_short.iloc[i , 2]\n",
    "    id_2 =  ncaa_short.iloc[i , 4] \n",
    "    s = teams[\"year\"] == year              # filter\n",
    "    if  id_1 not in s:                     # conditionally append\n",
    "        teams = teams.append({'team_id': id_counter , 'school_id': id_1 , \"year\" : year} , ignore_index=True )\n",
    "        id_counter += 1  # update counter\n",
    "    if  id_2 not in s:                     # conditionally append\n",
    "        teams = teams.append({'team_id': id_counter , 'school_id': id_2 , \"year\" : year} , ignore_index=True )    \n",
    "        id_counter += 1\n"
   ]
  },
  {
   "cell_type": "code",
   "execution_count": 88,
   "metadata": {},
   "outputs": [
    {
     "data": {
      "text/html": [
       "<div>\n",
       "<style scoped>\n",
       "    .dataframe tbody tr th:only-of-type {\n",
       "        vertical-align: middle;\n",
       "    }\n",
       "\n",
       "    .dataframe tbody tr th {\n",
       "        vertical-align: top;\n",
       "    }\n",
       "\n",
       "    .dataframe thead th {\n",
       "        text-align: right;\n",
       "    }\n",
       "</style>\n",
       "<table border=\"1\" class=\"dataframe\">\n",
       "  <thead>\n",
       "    <tr style=\"text-align: right;\">\n",
       "      <th></th>\n",
       "      <th>team_id</th>\n",
       "      <th>school_id</th>\n",
       "      <th>year</th>\n",
       "    </tr>\n",
       "  </thead>\n",
       "  <tbody>\n",
       "    <tr>\n",
       "      <th>0</th>\n",
       "      <td>1000000</td>\n",
       "      <td>1287</td>\n",
       "      <td>2009</td>\n",
       "    </tr>\n",
       "    <tr>\n",
       "      <th>1</th>\n",
       "      <td>1000001</td>\n",
       "      <td>1106</td>\n",
       "      <td>2009</td>\n",
       "    </tr>\n",
       "    <tr>\n",
       "      <th>2</th>\n",
       "      <td>1000002</td>\n",
       "      <td>1163</td>\n",
       "      <td>2009</td>\n",
       "    </tr>\n",
       "    <tr>\n",
       "      <th>3</th>\n",
       "      <td>1000003</td>\n",
       "      <td>1151</td>\n",
       "      <td>2009</td>\n",
       "    </tr>\n",
       "    <tr>\n",
       "      <th>4</th>\n",
       "      <td>1000004</td>\n",
       "      <td>1181</td>\n",
       "      <td>2009</td>\n",
       "    </tr>\n",
       "  </tbody>\n",
       "</table>\n",
       "</div>"
      ],
      "text/plain": [
       "   team_id school_id  year\n",
       "0  1000000      1287  2009\n",
       "1  1000001      1106  2009\n",
       "2  1000002      1163  2009\n",
       "3  1000003      1151  2009\n",
       "4  1000004      1181  2009"
      ]
     },
     "execution_count": 88,
     "metadata": {},
     "output_type": "execute_result"
    }
   ],
   "source": [
    "teams.head()"
   ]
  },
  {
   "cell_type": "code",
   "execution_count": null,
   "metadata": {},
   "outputs": [],
   "source": []
  },
  {
   "cell_type": "code",
   "execution_count": null,
   "metadata": {},
   "outputs": [],
   "source": []
  },
  {
   "cell_type": "code",
   "execution_count": null,
   "metadata": {},
   "outputs": [],
   "source": []
  },
  {
   "cell_type": "code",
   "execution_count": null,
   "metadata": {},
   "outputs": [],
   "source": []
  },
  {
   "cell_type": "code",
   "execution_count": 3,
   "metadata": {},
   "outputs": [],
   "source": []
  },
  {
   "cell_type": "markdown",
   "metadata": {},
   "source": [
    "Let's first get a sense of what our data looks like"
   ]
  },
  {
   "cell_type": "code",
   "execution_count": 4,
   "metadata": {},
   "outputs": [
    {
     "data": {
      "text/plain": [
       "Index(['Rk', 'Season', 'Conf', 'W', 'L', 'W-L%', 'W.1', 'L.1', 'W-L%.1', 'SRS',\n",
       "       'SOS', 'PTS', 'PTS.1', 'AP Pre', 'AP High', 'AP Final',\n",
       "       'NCAA Tournament', 'Seed', 'Coach(es)', 'Unnamed: 19', 'team'],\n",
       "      dtype='object')"
      ]
     },
     "execution_count": 4,
     "metadata": {},
     "output_type": "execute_result"
    }
   ],
   "source": [
    "# Get the columns\n",
    "season_stats2.columns"
   ]
  },
  {
   "cell_type": "markdown",
   "metadata": {},
   "source": [
    "Remove some non helpful datavals"
   ]
  },
  {
   "cell_type": "code",
   "execution_count": 5,
   "metadata": {
    "scrolled": true
   },
   "outputs": [],
   "source": [
    "season_stats2 = season_stats2.drop(columns=['Rk', 'Unnamed: 19' , 'AP Pre' , 'AP High' , 'W.1' , 'L.1' , 'W-L%.1',  'AP Final' , 'NCAA Tournament'])"
   ]
  },
  {
   "cell_type": "code",
   "execution_count": 6,
   "metadata": {
    "scrolled": true
   },
   "outputs": [
    {
     "data": {
      "text/html": [
       "<div>\n",
       "<style scoped>\n",
       "    .dataframe tbody tr th:only-of-type {\n",
       "        vertical-align: middle;\n",
       "    }\n",
       "\n",
       "    .dataframe tbody tr th {\n",
       "        vertical-align: top;\n",
       "    }\n",
       "\n",
       "    .dataframe thead th {\n",
       "        text-align: right;\n",
       "    }\n",
       "</style>\n",
       "<table border=\"1\" class=\"dataframe\">\n",
       "  <thead>\n",
       "    <tr style=\"text-align: right;\">\n",
       "      <th></th>\n",
       "      <th>Season</th>\n",
       "      <th>Conf</th>\n",
       "      <th>W</th>\n",
       "      <th>L</th>\n",
       "      <th>W-L%</th>\n",
       "      <th>SRS</th>\n",
       "      <th>SOS</th>\n",
       "      <th>PTS</th>\n",
       "      <th>PTS.1</th>\n",
       "      <th>Seed</th>\n",
       "      <th>Coach(es)</th>\n",
       "      <th>team</th>\n",
       "    </tr>\n",
       "  </thead>\n",
       "  <tbody>\n",
       "    <tr>\n",
       "      <th>count</th>\n",
       "      <td>2600</td>\n",
       "      <td>2600</td>\n",
       "      <td>2600</td>\n",
       "      <td>2600</td>\n",
       "      <td>2600.000000</td>\n",
       "      <td>2591.000000</td>\n",
       "      <td>2591.000000</td>\n",
       "      <td>2599.000000</td>\n",
       "      <td>2599.000000</td>\n",
       "      <td>736.000000</td>\n",
       "      <td>2600</td>\n",
       "      <td>2600</td>\n",
       "    </tr>\n",
       "    <tr>\n",
       "      <th>unique</th>\n",
       "      <td>17</td>\n",
       "      <td>35</td>\n",
       "      <td>50</td>\n",
       "      <td>42</td>\n",
       "      <td>NaN</td>\n",
       "      <td>NaN</td>\n",
       "      <td>NaN</td>\n",
       "      <td>NaN</td>\n",
       "      <td>NaN</td>\n",
       "      <td>NaN</td>\n",
       "      <td>2488</td>\n",
       "      <td>217</td>\n",
       "    </tr>\n",
       "    <tr>\n",
       "      <th>top</th>\n",
       "      <td>2018-19</td>\n",
       "      <td>ACC</td>\n",
       "      <td>20</td>\n",
       "      <td>14</td>\n",
       "      <td>NaN</td>\n",
       "      <td>NaN</td>\n",
       "      <td>NaN</td>\n",
       "      <td>NaN</td>\n",
       "      <td>NaN</td>\n",
       "      <td>NaN</td>\n",
       "      <td>Sean Miller (27-8)</td>\n",
       "      <td>north-carolina-greensboro</td>\n",
       "    </tr>\n",
       "    <tr>\n",
       "      <th>freq</th>\n",
       "      <td>217</td>\n",
       "      <td>165</td>\n",
       "      <td>162</td>\n",
       "      <td>221</td>\n",
       "      <td>NaN</td>\n",
       "      <td>NaN</td>\n",
       "      <td>NaN</td>\n",
       "      <td>NaN</td>\n",
       "      <td>NaN</td>\n",
       "      <td>NaN</td>\n",
       "      <td>3</td>\n",
       "      <td>12</td>\n",
       "    </tr>\n",
       "    <tr>\n",
       "      <th>mean</th>\n",
       "      <td>NaN</td>\n",
       "      <td>NaN</td>\n",
       "      <td>NaN</td>\n",
       "      <td>NaN</td>\n",
       "      <td>0.564665</td>\n",
       "      <td>3.337522</td>\n",
       "      <td>1.442721</td>\n",
       "      <td>71.233282</td>\n",
       "      <td>68.418853</td>\n",
       "      <td>8.728261</td>\n",
       "      <td>NaN</td>\n",
       "      <td>NaN</td>\n",
       "    </tr>\n",
       "    <tr>\n",
       "      <th>std</th>\n",
       "      <td>NaN</td>\n",
       "      <td>NaN</td>\n",
       "      <td>NaN</td>\n",
       "      <td>NaN</td>\n",
       "      <td>0.165013</td>\n",
       "      <td>9.661552</td>\n",
       "      <td>5.510206</td>\n",
       "      <td>5.602585</td>\n",
       "      <td>5.266216</td>\n",
       "      <td>4.662143</td>\n",
       "      <td>NaN</td>\n",
       "      <td>NaN</td>\n",
       "    </tr>\n",
       "    <tr>\n",
       "      <th>min</th>\n",
       "      <td>NaN</td>\n",
       "      <td>NaN</td>\n",
       "      <td>NaN</td>\n",
       "      <td>NaN</td>\n",
       "      <td>0.050000</td>\n",
       "      <td>-30.400000</td>\n",
       "      <td>-12.710000</td>\n",
       "      <td>52.600000</td>\n",
       "      <td>50.700000</td>\n",
       "      <td>1.000000</td>\n",
       "      <td>NaN</td>\n",
       "      <td>NaN</td>\n",
       "    </tr>\n",
       "    <tr>\n",
       "      <th>25%</th>\n",
       "      <td>NaN</td>\n",
       "      <td>NaN</td>\n",
       "      <td>NaN</td>\n",
       "      <td>NaN</td>\n",
       "      <td>0.454250</td>\n",
       "      <td>-3.680000</td>\n",
       "      <td>-3.110000</td>\n",
       "      <td>67.400000</td>\n",
       "      <td>64.800000</td>\n",
       "      <td>5.000000</td>\n",
       "      <td>NaN</td>\n",
       "      <td>NaN</td>\n",
       "    </tr>\n",
       "    <tr>\n",
       "      <th>50%</th>\n",
       "      <td>NaN</td>\n",
       "      <td>NaN</td>\n",
       "      <td>NaN</td>\n",
       "      <td>NaN</td>\n",
       "      <td>0.576000</td>\n",
       "      <td>3.310000</td>\n",
       "      <td>1.040000</td>\n",
       "      <td>71.300000</td>\n",
       "      <td>68.300000</td>\n",
       "      <td>9.000000</td>\n",
       "      <td>NaN</td>\n",
       "      <td>NaN</td>\n",
       "    </tr>\n",
       "    <tr>\n",
       "      <th>75%</th>\n",
       "      <td>NaN</td>\n",
       "      <td>NaN</td>\n",
       "      <td>NaN</td>\n",
       "      <td>NaN</td>\n",
       "      <td>0.686000</td>\n",
       "      <td>10.655000</td>\n",
       "      <td>6.565000</td>\n",
       "      <td>75.000000</td>\n",
       "      <td>71.900000</td>\n",
       "      <td>13.000000</td>\n",
       "      <td>NaN</td>\n",
       "      <td>NaN</td>\n",
       "    </tr>\n",
       "    <tr>\n",
       "      <th>max</th>\n",
       "      <td>NaN</td>\n",
       "      <td>NaN</td>\n",
       "      <td>NaN</td>\n",
       "      <td>NaN</td>\n",
       "      <td>1.000000</td>\n",
       "      <td>28.720000</td>\n",
       "      <td>12.790000</td>\n",
       "      <td>89.800000</td>\n",
       "      <td>92.200000</td>\n",
       "      <td>16.000000</td>\n",
       "      <td>NaN</td>\n",
       "      <td>NaN</td>\n",
       "    </tr>\n",
       "  </tbody>\n",
       "</table>\n",
       "</div>"
      ],
      "text/plain": [
       "         Season  Conf     W     L         W-L%          SRS          SOS  \\\n",
       "count      2600  2600  2600  2600  2600.000000  2591.000000  2591.000000   \n",
       "unique       17    35    50    42          NaN          NaN          NaN   \n",
       "top     2018-19   ACC    20    14          NaN          NaN          NaN   \n",
       "freq        217   165   162   221          NaN          NaN          NaN   \n",
       "mean        NaN   NaN   NaN   NaN     0.564665     3.337522     1.442721   \n",
       "std         NaN   NaN   NaN   NaN     0.165013     9.661552     5.510206   \n",
       "min         NaN   NaN   NaN   NaN     0.050000   -30.400000   -12.710000   \n",
       "25%         NaN   NaN   NaN   NaN     0.454250    -3.680000    -3.110000   \n",
       "50%         NaN   NaN   NaN   NaN     0.576000     3.310000     1.040000   \n",
       "75%         NaN   NaN   NaN   NaN     0.686000    10.655000     6.565000   \n",
       "max         NaN   NaN   NaN   NaN     1.000000    28.720000    12.790000   \n",
       "\n",
       "                PTS        PTS.1        Seed           Coach(es)  \\\n",
       "count   2599.000000  2599.000000  736.000000                2600   \n",
       "unique          NaN          NaN         NaN                2488   \n",
       "top             NaN          NaN         NaN  Sean Miller (27-8)   \n",
       "freq            NaN          NaN         NaN                   3   \n",
       "mean      71.233282    68.418853    8.728261                 NaN   \n",
       "std        5.602585     5.266216    4.662143                 NaN   \n",
       "min       52.600000    50.700000    1.000000                 NaN   \n",
       "25%       67.400000    64.800000    5.000000                 NaN   \n",
       "50%       71.300000    68.300000    9.000000                 NaN   \n",
       "75%       75.000000    71.900000   13.000000                 NaN   \n",
       "max       89.800000    92.200000   16.000000                 NaN   \n",
       "\n",
       "                             team  \n",
       "count                        2600  \n",
       "unique                        217  \n",
       "top     north-carolina-greensboro  \n",
       "freq                           12  \n",
       "mean                          NaN  \n",
       "std                           NaN  \n",
       "min                           NaN  \n",
       "25%                           NaN  \n",
       "50%                           NaN  \n",
       "75%                           NaN  \n",
       "max                           NaN  "
      ]
     },
     "execution_count": 6,
     "metadata": {},
     "output_type": "execute_result"
    }
   ],
   "source": [
    "season_stats2.describe(include = 'all')"
   ]
  },
  {
   "cell_type": "code",
   "execution_count": 7,
   "metadata": {
    "scrolled": true
   },
   "outputs": [
    {
     "data": {
      "text/plain": [
       "Season        object\n",
       "Conf          object\n",
       "W             object\n",
       "L             object\n",
       "W-L%         float64\n",
       "SRS          float64\n",
       "SOS          float64\n",
       "PTS          float64\n",
       "PTS.1        float64\n",
       "Seed         float64\n",
       "Coach(es)     object\n",
       "team          object\n",
       "dtype: object"
      ]
     },
     "execution_count": 7,
     "metadata": {},
     "output_type": "execute_result"
    }
   ],
   "source": [
    "season_stats2.dtypes"
   ]
  },
  {
   "cell_type": "code",
   "execution_count": 8,
   "metadata": {},
   "outputs": [],
   "source": [
    "# have to get rid of the * ( this means the data was changed as a result of a penalty)\n",
    "season_stats2['W'] = season_stats2['W'].map(lambda x: x.rstrip('*'))\n",
    "season_stats2['L'] = season_stats2['L'].map(lambda x: x.rstrip('*'))"
   ]
  },
  {
   "cell_type": "code",
   "execution_count": 9,
   "metadata": {},
   "outputs": [],
   "source": [
    "season_stats2 = season_stats2.astype({'W': 'int32' , 'L': 'int32'})"
   ]
  },
  {
   "cell_type": "code",
   "execution_count": 10,
   "metadata": {},
   "outputs": [
    {
     "data": {
      "text/plain": [
       "Season        object\n",
       "Conf          object\n",
       "W              int32\n",
       "L              int32\n",
       "W-L%         float64\n",
       "SRS          float64\n",
       "SOS          float64\n",
       "PTS          float64\n",
       "PTS.1        float64\n",
       "Seed         float64\n",
       "Coach(es)     object\n",
       "team          object\n",
       "dtype: object"
      ]
     },
     "execution_count": 10,
     "metadata": {},
     "output_type": "execute_result"
    }
   ],
   "source": [
    "season_stats2.dtypes"
   ]
  },
  {
   "cell_type": "code",
   "execution_count": null,
   "metadata": {},
   "outputs": [],
   "source": []
  }
 ],
 "metadata": {
  "kernelspec": {
   "display_name": "Python 3",
   "language": "python",
   "name": "python3"
  },
  "language_info": {
   "codemirror_mode": {
    "name": "ipython",
    "version": 3
   },
   "file_extension": ".py",
   "mimetype": "text/x-python",
   "name": "python",
   "nbconvert_exporter": "python",
   "pygments_lexer": "ipython3",
   "version": "3.7.1"
  }
 },
 "nbformat": 4,
 "nbformat_minor": 2
}
