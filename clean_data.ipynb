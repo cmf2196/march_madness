{
 "cells": [
  {
   "cell_type": "markdown",
   "metadata": {},
   "source": [
    "# Start working with old Data Here"
   ]
  },
  {
   "cell_type": "code",
   "execution_count": 266,
   "metadata": {},
   "outputs": [],
   "source": [
    "import pandas as pd\n",
    "season_data = pd.read_csv(\"collected_data/season_data.csv\")\n",
    "more_team_data = pd.read_csv(\"collected_data/more_team_data.csv\")\n",
    "ncaa_short = pd.read_csv(\"collected_data/ncaa_short.csv\")"
   ]
  },
  {
   "cell_type": "markdown",
   "metadata": {},
   "source": [
    "We would like to join the two dataframes on 'Team' and 'Date' - this is sr-name and year of season"
   ]
  },
  {
   "cell_type": "code",
   "execution_count": 267,
   "metadata": {},
   "outputs": [],
   "source": [
    "# Prepare the dataframes for the merge\n",
    "more_team_data = more_team_data.rename( columns = { \"Season\": \"Date\" , \"team\": 'Team' })\n",
    "more_team_data['Date'] = more_team_data['Date'].map(lambda x: int(x[:2] + x[5:7]) )\n",
    "season_data[\"Date\"] = season_data[\"Date\"].map(lambda x: int(x))"
   ]
  },
  {
   "cell_type": "markdown",
   "metadata": {},
   "source": [
    "Merge these dataframes on there sr names and the date."
   ]
  },
  {
   "cell_type": "code",
   "execution_count": 268,
   "metadata": {},
   "outputs": [],
   "source": [
    "season_stats = pd.merge(season_data, more_team_data, on=[ 'Team' , 'Date' ] , how = 'left')"
   ]
  },
  {
   "cell_type": "code",
   "execution_count": 269,
   "metadata": {},
   "outputs": [],
   "source": [
    "season_stats = season_stats.rename( columns = {'Team_ID': 'school_id'})\n"
   ]
  },
  {
   "cell_type": "markdown",
   "metadata": {},
   "source": [
    "Add a team_id column"
   ]
  },
  {
   "cell_type": "code",
   "execution_count": 270,
   "metadata": {},
   "outputs": [],
   "source": [
    "initial_value = 100001\n",
    "season_stats['team_id'] = range(initial_value, len(season_stats) +initial_value)\n"
   ]
  },
  {
   "cell_type": "code",
   "execution_count": 271,
   "metadata": {},
   "outputs": [],
   "source": [
    "teams = season_stats[[\"team_id\" , 'school_id' , \"Date\"]].copy()"
   ]
  },
  {
   "cell_type": "code",
   "execution_count": 272,
   "metadata": {},
   "outputs": [],
   "source": [
    "schools = season_stats[['school_id' , 'Team'  ]]"
   ]
  },
  {
   "cell_type": "code",
   "execution_count": 273,
   "metadata": {},
   "outputs": [],
   "source": [
    "schools = schools.rename(columns = {'Team': \"sports_reference_name\"})"
   ]
  },
  {
   "cell_type": "code",
   "execution_count": 274,
   "metadata": {},
   "outputs": [],
   "source": [
    "# Get the winner TeamID\n",
    "ncaa_games  = pd.merge(ncaa_short, teams, left_on=[ 'WTeamID' , 'Season' ] , right_on=[ \"school_id\", \"Date\" ] ,how = 'left')\n",
    "ncaa_games = ncaa_games.drop(['WTeamID' , 'school_id' , \"WLoc\" , \"NumOT\"] , axis = 1)\n",
    "ncaa_games = ncaa_games.rename(columns = {'team_id': \"team_1_id\"})\n"
   ]
  },
  {
   "cell_type": "code",
   "execution_count": 275,
   "metadata": {},
   "outputs": [],
   "source": [
    "# Get the Loser Team ID\n",
    "ncaa_games  = pd.merge(ncaa_games, teams, left_on=[ 'LTeamID' , 'Season' ] , right_on=[ \"school_id\", \"Date\" ] ,how = 'left')\n",
    "ncaa_games = ncaa_games.drop(['LTeamID' , 'school_id' , \"Date_x\" , \"Date_y\" , \"Season\" , \"Unnamed: 0\" , \"DayNum\"] , axis = 1)\n",
    "ncaa_games = ncaa_games.rename(columns = {'team_id': \"team_2_id\" , \"WScore\": \"team_1_score\" , \"LScore\": \"team_2_score\"})\n"
   ]
  },
  {
   "cell_type": "code",
   "execution_count": 276,
   "metadata": {},
   "outputs": [],
   "source": [
    "initial_value = 1\n",
    "ncaa_games['game_id'] = range(initial_value, len(ncaa_games) +initial_value)\n"
   ]
  },
  {
   "cell_type": "code",
   "execution_count": 277,
   "metadata": {},
   "outputs": [
    {
     "data": {
      "text/plain": [
       "Index(['Team', 'G', 'MP', 'FG', 'FGA', 'FG%', '2P', '2PA', '2P%', '3P', '3PA',\n",
       "       '3P%', 'FT', 'FTA', 'FT%', 'ORB', 'DRB', 'TRB', 'AST', 'STL', 'BLK',\n",
       "       'TOV', 'PF', 'PTS_x', 'PTS/G', 'school_id', 'Date', 'Rk', 'Conf', 'W',\n",
       "       'L', 'W-L%', 'W.1', 'L.1', 'W-L%.1', 'SRS', 'SOS', 'PTS_y', 'PTS.1',\n",
       "       'AP Pre', 'AP High', 'AP Final', 'NCAA Tournament', 'Seed', 'Coach(es)',\n",
       "       'Unnamed: 19', 'team_id'],\n",
       "      dtype='object')"
      ]
     },
     "execution_count": 277,
     "metadata": {},
     "output_type": "execute_result"
    }
   ],
   "source": [
    "season_stats.columns"
   ]
  },
  {
   "cell_type": "code",
   "execution_count": 278,
   "metadata": {},
   "outputs": [],
   "source": [
    "# Lets only keep the numerical columns we care about\n",
    "cols_keep = ['team_id', 'FG' , 'FGA', 'FG%', '2P' , '2PA', '2P%', '3P' , '3PA', '3P%', 'FT' , 'FTA', 'FT%', 'ORB',\n",
    "       'DRB', 'TRB' , 'AST', 'STL', 'BLK', 'TOV', 'PF',  'PTS/G','W-L%', 'SRS', 'SOS','PTS.1','Seed' ]\n",
    "season_stats = season_stats[cols_keep]\n",
    "\n",
    "\n",
    "season_stats = season_stats.rename(columns = {\"PS.1\": \"opp_PPG\"})\n"
   ]
  },
  {
   "cell_type": "markdown",
   "metadata": {},
   "source": [
    "# At This point, We should Have The Schema"
   ]
  },
  {
   "cell_type": "markdown",
   "metadata": {},
   "source": [
    "### Let's first see about null values\n"
   ]
  },
  {
   "cell_type": "code",
   "execution_count": 279,
   "metadata": {},
   "outputs": [],
   "source": [
    "def check_null(df):\n",
    "    \"\"\"\n",
    "    This function takes in a df as an argument, and returns the null values by column\n",
    "    \"\"\"\n",
    "    null_columns=df.columns[df.isnull().any()]\n",
    "    return df[null_columns].isnull().sum()\n",
    "    "
   ]
  },
  {
   "cell_type": "markdown",
   "metadata": {},
   "source": [
    "with the above function, we find that our data has no null values!"
   ]
  },
  {
   "cell_type": "code",
   "execution_count": 280,
   "metadata": {},
   "outputs": [
    {
     "data": {
      "text/plain": [
       "Series([], dtype: float64)"
      ]
     },
     "execution_count": 280,
     "metadata": {},
     "output_type": "execute_result"
    }
   ],
   "source": [
    "check_null(ncaa_games)"
   ]
  },
  {
   "cell_type": "code",
   "execution_count": 281,
   "metadata": {},
   "outputs": [
    {
     "data": {
      "text/plain": [
       "Series([], dtype: float64)"
      ]
     },
     "execution_count": 281,
     "metadata": {},
     "output_type": "execute_result"
    }
   ],
   "source": [
    "check_null(season_stats)"
   ]
  },
  {
   "cell_type": "code",
   "execution_count": 282,
   "metadata": {},
   "outputs": [
    {
     "data": {
      "text/plain": [
       "Series([], dtype: float64)"
      ]
     },
     "execution_count": 282,
     "metadata": {},
     "output_type": "execute_result"
    }
   ],
   "source": [
    "check_null(teams)"
   ]
  },
  {
   "cell_type": "code",
   "execution_count": 283,
   "metadata": {},
   "outputs": [
    {
     "data": {
      "text/plain": [
       "Series([], dtype: float64)"
      ]
     },
     "execution_count": 283,
     "metadata": {},
     "output_type": "execute_result"
    }
   ],
   "source": [
    "check_null(schools)"
   ]
  },
  {
   "cell_type": "markdown",
   "metadata": {},
   "source": [
    "#### Shuffle team1 and team2 in the ncaa_games df -> eliminate selection bias"
   ]
  },
  {
   "cell_type": "code",
   "execution_count": 284,
   "metadata": {},
   "outputs": [],
   "source": [
    "def shuffle(row):\n",
    "    \"\"\"\n",
    "    This function will randomly shuffle which team \n",
    "    is team 1.  Origionally, the winner is always team 1\n",
    "    \"\"\"\n",
    "    from random import choice\n",
    "    val = choice([0 , 1])\n",
    "    if val ==0:\n",
    "        # everything stays the same\n",
    "        pass\n",
    "    else:\n",
    "        # switch the teams\n",
    "        ph1 = row[\"team_1_id\"]\n",
    "        ph2 = row[\"team_1_score\"]\n",
    "        row[\"team_1_score\"] = row[\"team_2_score\"] \n",
    "        row[\"team_1_id\"] = row[\"team_2_id\"]\n",
    "        row[\"team_2_id\"] = ph1\n",
    "        row[\"team_2_score\"] = ph2\n",
    "        return row\n"
   ]
  },
  {
   "cell_type": "code",
   "execution_count": 286,
   "metadata": {},
   "outputs": [
    {
     "data": {
      "text/plain": [
       "0                                                   None\n",
       "1                                                   None\n",
       "2      [4487424360, 4487424360, 4487424360, 448742436...\n",
       "3                                                   None\n",
       "4                                                   None\n",
       "5      [4487424360, 4487424360, 4487424360, 448742436...\n",
       "6                                                   None\n",
       "7                                                   None\n",
       "8                                                   None\n",
       "9                                                   None\n",
       "10     [4487424360, 4487424360, 4487424360, 448742436...\n",
       "11                                                  None\n",
       "12                                                  None\n",
       "13                                                  None\n",
       "14     [4487424360, 4487424360, 4487424360, 448742436...\n",
       "15                                                  None\n",
       "16     [4487424360, 4487424360, 4487424360, 448742436...\n",
       "17                                                  None\n",
       "18     [4487424360, 4487424360, 4487424360, 448742436...\n",
       "19                                                  None\n",
       "20                                                  None\n",
       "21     [4487424360, 4487424360, 4487424360, 448742436...\n",
       "22     [4487424360, 4487424360, 4487424360, 448742436...\n",
       "23     [4487424360, 4487424360, 4487424360, 448742436...\n",
       "24     [4487424360, 4487424360, 4487424360, 448742436...\n",
       "25                                                  None\n",
       "26     [4487424360, 4487424360, 4487424360, 448742436...\n",
       "27     [4487424360, 4487424360, 4487424360, 448742436...\n",
       "28     [4487424360, 4487424360, 4487424360, 448742436...\n",
       "29     [4487424360, 4487424360, 4487424360, 448742436...\n",
       "                             ...                        \n",
       "634    [4487424360, 4487424360, 4487424360, 448742436...\n",
       "635    [4487424360, 4487424360, 4487424360, 448742436...\n",
       "636                                                 None\n",
       "637    [4487424360, 4487424360, 4487424360, 448742436...\n",
       "638    [4487424360, 4487424360, 4487424360, 448742436...\n",
       "639                                                 None\n",
       "640                                                 None\n",
       "641    [4487424360, 4487424360, 4487424360, 448742436...\n",
       "642    [4487424360, 4487424360, 4487424360, 448742436...\n",
       "643    [4487424360, 4487424360, 4487424360, 448742436...\n",
       "644    [4487424360, 4487424360, 4487424360, 448742436...\n",
       "645    [4487424360, 4487424360, 4487424360, 448742436...\n",
       "646                                                 None\n",
       "647                                                 None\n",
       "648    [4487424360, 4487424360, 4487424360, 448742436...\n",
       "649    [4487424360, 4487424360, 4487424360, 448742436...\n",
       "650                                                 None\n",
       "651    [4487424360, 4487424360, 4487424360, 448742436...\n",
       "652                                                 None\n",
       "653                                                 None\n",
       "654                                                 None\n",
       "655    [4487424360, 4487424360, 4487424360, 448742436...\n",
       "656    [4487424360, 4487424360, 4487424360, 448742436...\n",
       "657    [4487424360, 4487424360, 4487424360, 448742436...\n",
       "658                                                 None\n",
       "659                                                 None\n",
       "660    [4487424360, 4487424360, 4487424360, 448742436...\n",
       "661                                                 None\n",
       "662    [4487424360, 4487424360, 4487424360, 448742436...\n",
       "663                                                 None\n",
       "Length: 664, dtype: object"
      ]
     },
     "execution_count": 286,
     "metadata": {},
     "output_type": "execute_result"
    }
   ],
   "source": [
    "ncaa_games.apply(shuffle , axis = 1 )"
   ]
  },
  {
   "cell_type": "code",
   "execution_count": 290,
   "metadata": {},
   "outputs": [],
   "source": [
    "import os\n",
    "\n",
    "# make folder\n",
    "if not os.path.exists('./clean_data'):\n",
    "    os.mkdir('./clean_data')\n",
    "\n",
    "# write our df's\n",
    "season_stats.to_csv('clean_data/season_stats.csv' , index = False)\n",
    "teams.to_csv('clean_data/teams.csv' , index = False)\n",
    "schools.to_csv('clean_data/schools.csv' , index = False)\n",
    "ncaa_games.to_csv('clean_data/ncaa_games.csv' , index = False)\n"
   ]
  },
  {
   "cell_type": "code",
   "execution_count": null,
   "metadata": {},
   "outputs": [],
   "source": []
  }
 ],
 "metadata": {
  "kernelspec": {
   "display_name": "Python 3",
   "language": "python",
   "name": "python3"
  },
  "language_info": {
   "codemirror_mode": {
    "name": "ipython",
    "version": 3
   },
   "file_extension": ".py",
   "mimetype": "text/x-python",
   "name": "python",
   "nbconvert_exporter": "python",
   "pygments_lexer": "ipython3",
   "version": "3.7.1"
  }
 },
 "nbformat": 4,
 "nbformat_minor": 2
}
