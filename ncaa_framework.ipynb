{
 "cells": [
  {
   "cell_type": "markdown",
   "metadata": {},
   "source": [
    "# NCAA Framework\n",
    "\n",
    "In this dictionary, provide the teams in each region, starting from seed 1 and ending in seed 16. The teams should be listed as strings, where the team name is as it would appear in sports-reference.com url"
   ]
  },
  {
   "cell_type": "code",
   "execution_count": 4,
   "metadata": {},
   "outputs": [],
   "source": [
    "ncaa_teams = {\n",
    "    'south' : [\n",
    "        'kansas' , \n",
    "        'san-diego-state' , \n",
    "        'maryland' , \n",
    "        'kentucky' , \n",
    "        'butler' , \n",
    "        'auburn' , \n",
    "        'west-virginia' , \n",
    "        'saint-marys-ca' , \n",
    "        'oklahoma' , \n",
    "        'texas-tech' , \n",
    "        'arizona-state' , \n",
    "        'purdue' , \n",
    "        'richmond' , \n",
    "        'tennessee' , \n",
    "        'rhode-island' , \n",
    "        'mississippi-state' \n",
    "        ] , \n",
    "        'east' : [\n",
    "        'gonzaga' , \n",
    "        'florida-state' , \n",
    "        'louisville' , \n",
    "        'villanova' , \n",
    "        'penn-state' , \n",
    "        'iowa' , \n",
    "        'arizona' , \n",
    "        'houston' , \n",
    "        'louisiana-state' , \n",
    "        'xavier' , \n",
    "        'texas' , \n",
    "        'tulsa' , \n",
    "        'vermont' , \n",
    "        'belmont' , \n",
    "        'wright-state' , \n",
    "        'siena' \n",
    "        ]  ,\n",
    "        'midwest' : [\n",
    "        'baylor' , \n",
    "        'seton-hall' , \n",
    "        'duke' , \n",
    "        'oregon' , \n",
    "        'brigham-young' ,  # byu\n",
    "        'colorado' , \n",
    "        'illinois' , \n",
    "        'indiana' , \n",
    "        'providence' , \n",
    "        'florida' , \n",
    "        'northern-iowa' , \n",
    "        'liberty' , \n",
    "        'akron' , \n",
    "        'yale' , \n",
    "        'radford' , \n",
    "        'hofstra' \n",
    "        ]  ,\n",
    "        'west' : [\n",
    "        'dayton' , \n",
    "        'michigan-state' , \n",
    "        'creighton' , \n",
    "        'ohio-state' , \n",
    "        'wisconsin' , \n",
    "        'michigan' , \n",
    "        'virginia' , \n",
    "        'marquette' , \n",
    "        'southern-california' , \n",
    "        'rutgers' , \n",
    "        'east-tennessee-state' , \n",
    "        'stephen-f-austin' , \n",
    "        'cincinnati' , \n",
    "        'wichita-state' , \n",
    "        'utah-state' , \n",
    "        'north-carolina-central' \n",
    "        ]\n",
    "    \n",
    "    }"
   ]
  },
  {
   "cell_type": "code",
   "execution_count": 6,
   "metadata": {},
   "outputs": [
    {
     "name": "stdout",
     "output_type": "stream",
     "text": [
      "Stored 'ncaa_teams' (dict)\n"
     ]
    }
   ],
   "source": [
    "%store ncaa_teams"
   ]
  },
  {
   "cell_type": "code",
   "execution_count": null,
   "metadata": {},
   "outputs": [],
   "source": []
  }
 ],
 "metadata": {
  "kernelspec": {
   "display_name": "Python 3",
   "language": "python",
   "name": "python3"
  },
  "language_info": {
   "codemirror_mode": {
    "name": "ipython",
    "version": 3
   },
   "file_extension": ".py",
   "mimetype": "text/x-python",
   "name": "python",
   "nbconvert_exporter": "python",
   "pygments_lexer": "ipython3",
   "version": "3.7.1"
  }
 },
 "nbformat": 4,
 "nbformat_minor": 2
}
